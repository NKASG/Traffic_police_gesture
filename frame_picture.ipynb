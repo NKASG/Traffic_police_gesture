{
  "nbformat": 4,
  "nbformat_minor": 0,
  "metadata": {
    "colab": {
      "provenance": [],
      "authorship_tag": "ABX9TyPE+DXzKlyPK7iLK8bjb5ry",
      "include_colab_link": true
    },
    "kernelspec": {
      "name": "python3",
      "display_name": "Python 3"
    },
    "language_info": {
      "name": "python"
    }
  },
  "cells": [
    {
      "cell_type": "markdown",
      "metadata": {
        "id": "view-in-github",
        "colab_type": "text"
      },
      "source": [
        "<a href=\"https://colab.research.google.com/github/NKASG/Traffic_police_gesture/blob/main/frame_picture.ipynb\" target=\"_parent\"><img src=\"https://colab.research.google.com/assets/colab-badge.svg\" alt=\"Open In Colab\"/></a>"
      ]
    },
    {
      "cell_type": "code",
      "execution_count": null,
      "metadata": {
        "id": "cjYvBksKI_56"
      },
      "outputs": [],
      "source": [
        "import cv2\n",
        "import pandas as pd\n",
        "import matplotlib.pyplot as plt\n",
        "import os\n",
        "\n",
        "# Replace 'your_folder_path' with the actual path to the folder containing video and CSV files\n",
        "folder_path = '/content/drive/MyDrive/PoliceGestureLong/train'\n",
        "\n",
        "# Output folder for saving frames based on assigned numbers\n",
        "output_folder = '/content/drive/MyDrive/PoliceGestureLong'\n",
        "os.makedirs(output_folder, exist_ok=True)\n",
        "\n",
        "# Iterate over each file in the folder\n",
        "for filename in os.listdir(folder_path):\n",
        "    base_name, extension = os.path.splitext(filename)\n",
        "\n",
        "    if extension == \".mp4\":\n",
        "        # Form the full path for the video file\n",
        "        video_path = os.path.join(folder_path, filename)\n",
        "\n",
        "        # Form the full path for the corresponding CSV file\n",
        "        csv_filename = f\"{base_name}.csv\"\n",
        "        csv_file_path = os.path.join(folder_path, csv_filename)\n",
        "\n",
        "        # Open the video file\n",
        "        cap = cv2.VideoCapture(video_path)\n",
        "\n",
        "        # Get the frames per second (fps) of the video\n",
        "        fps = cap.get(cv2.CAP_PROP_FPS)\n",
        "\n",
        "        # Calculate the total number of frames in the video\n",
        "        total_frames = int(cap.get(cv2.CAP_PROP_FRAME_COUNT))\n",
        "\n",
        "        # Initialize an empty list to store frames\n",
        "        frames_list = []\n",
        "\n",
        "        # Read and save each frame to the list\n",
        "        for frame_number in range(total_frames):\n",
        "            ret, frame = cap.read()\n",
        "            if not ret:\n",
        "                break  # Break the loop if there are no more frames\n",
        "\n",
        "            # Append each frame to the list\n",
        "            frames_list.append(frame)\n",
        "\n",
        "        # Release the video capture object\n",
        "        cap.release()\n",
        "\n",
        "        # Check if the CSV file exists\n",
        "        if os.path.exists(csv_file_path):\n",
        "            # Read the CSV file into a pandas DataFrame\n",
        "            df = pd.read_csv(csv_file_path, header=None)\n",
        "\n",
        "            # Check if the number of columns in the CSV file matches the number of frames\n",
        "            if len(df.columns) == len(frames_list):\n",
        "                # Iterate over unique assigned numbers\n",
        "                unique_assigned_numbers = df.iloc[0].unique()\n",
        "                for assigned_number in unique_assigned_numbers:\n",
        "                    # Filter frames corresponding to the current assigned number\n",
        "                    filtered_frames = [frame for frame, number in zip(frames_list, df.iloc[0]) if number == assigned_number]\n",
        "\n",
        "                    # Create a folder for the assigned number\n",
        "                    output_folder_assigned = os.path.join(output_folder, f'assigned_{assigned_number}')\n",
        "                    os.makedirs(output_folder_assigned, exist_ok=True)\n",
        "\n",
        "                    # Save each frame in the folder\n",
        "                    for idx, frame in enumerate(filtered_frames):\n",
        "                        output_file_path = os.path.join(output_folder_assigned, f'{base_name}_frame_{idx + 1}.png')\n",
        "                        cv2.imwrite(output_file_path, frame)\n",
        "\n",
        "            else:\n",
        "                print(f\"For {base_name}, Number of columns in the CSV file does not match the number of frames.\")\n",
        "        else:\n",
        "            print(f\"CSV file not found for {base_name}.\")\n"
      ]
    }
  ]
}